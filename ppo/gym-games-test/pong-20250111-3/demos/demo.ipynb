{
 "cells": [
  {
   "cell_type": "code",
   "execution_count": 1,
   "metadata": {},
   "outputs": [],
   "source": [
    "\n",
    "import torch\n",
    "import torch.nn as nn\n",
    "import gymnasium as gym\n",
    "from gymnasium.wrappers import frame_stack,AtariPreprocessing\n",
    "import numpy as np\n"
   ]
  },
  {
   "cell_type": "code",
   "execution_count": 2,
   "metadata": {},
   "outputs": [
    {
     "name": "stdout",
     "output_type": "stream",
     "text": [
      "number of parameters:        8192 torch.Size([32, 4, 8, 8])\n",
      "number of parameters:          32 torch.Size([32])\n",
      "number of parameters:       32768 torch.Size([64, 32, 4, 4])\n",
      "number of parameters:          64 torch.Size([64])\n",
      "number of parameters:       36864 torch.Size([64, 64, 3, 3])\n",
      "number of parameters:          64 torch.Size([64])\n",
      "number of parameters:     1605632 torch.Size([512, 3136])\n",
      "number of parameters:         512 torch.Size([512])\n",
      "number of parameters:       65536 torch.Size([128, 512])\n",
      "number of parameters:         128 torch.Size([128])\n",
      "number of parameters:         768 torch.Size([6, 128])\n",
      "number of parameters:           6 torch.Size([6])\n",
      "number of parameters:       65536 torch.Size([128, 512])\n",
      "number of parameters:         128 torch.Size([128])\n",
      "number of parameters:         128 torch.Size([1, 128])\n",
      "number of parameters:           1 torch.Size([1])\n"
     ]
    }
   ],
   "source": [
    "# env = gym.make(\"ALE/Pong-v5\", render_mode='rgb_array')\n",
    "env = gym.make(\"PongNoFrameskip-v4\", render_mode='rgb_array')\n",
    "env = AtariPreprocessing(env, grayscale_obs = True,scale_obs=True, frame_skip=4)\n",
    "env = frame_stack.FrameStack(env, 4)\n",
    "from nn_model23 import PPOnn\n",
    "model = PPOnn(env.action_space.n)\n",
    "\n",
    "wei = torch.load(\"demo-1/model_1040.pth\", weights_only=True)\n",
    "model.load_state_dict(wei)\n",
    "for param in model.parameters():\n",
    "    print(f'number of parameters:{param.numel(): 12d} {param.shape}')"
   ]
  },
  {
   "cell_type": "code",
   "execution_count": 3,
   "metadata": {},
   "outputs": [
    {
     "name": "stderr",
     "output_type": "stream",
     "text": [
      "C:\\Users\\seanw\\AppData\\Local\\Temp\\ipykernel_16628\\957011239.py:8: UserWarning: Creating a tensor from a list of numpy.ndarrays is extremely slow. Please consider converting the list to a single numpy.ndarray with numpy.array() before converting to a tensor. (Triggered internally at C:\\actions-runner\\_work\\pytorch\\pytorch\\builder\\windows\\pytorch\\torch\\csrc\\utils\\tensor_new.cpp:281.)\n",
      "  logits, value = model(torch.FloatTensor(state).unsqueeze(0))\n"
     ]
    },
    {
     "name": "stdout",
     "output_type": "stream",
     "text": [
      "0: total_reward: 16.0, average_reward: 16.00, std: 0.00\n",
      "1: total_reward: -21.0, average_reward: -2.50, std: 18.50\n",
      "2: total_reward: -8.0, average_reward: -4.33, std: 15.33\n"
     ]
    }
   ],
   "source": [
    "state, _ = env.reset()\n",
    "total_rewards = []\n",
    "for episode in range(100):\n",
    "    total_reward = 0\n",
    "    next_done = False\n",
    "    while not next_done:\n",
    "        with torch.no_grad():\n",
    "            logits, value = model(torch.FloatTensor(np.array(state)).unsqueeze(0))\n",
    "        # Sample action from the policy\n",
    "        action_distribution = torch.distributions.Categorical(logits=logits)\n",
    "        action = action_distribution.sample()\n",
    "        state, reward, terminated, truncated,  info = env.step(action)\n",
    "        next_done = terminated or truncated\n",
    "        total_reward += reward\n",
    "\n",
    "    state, _ = env.reset()\n",
    "    total_rewards.append(total_reward)\n",
    "    print(f'{episode}: total_reward: {total_reward}, average_reward: {np.mean(total_rewards):.2f}, std: {np.std(total_rewards):.2f}')\n",
    "        \n",
    "    "
   ]
  }
 ],
 "metadata": {
  "kernelspec": {
   "display_name": "Python 3",
   "language": "python",
   "name": "python3"
  },
  "language_info": {
   "codemirror_mode": {
    "name": "ipython",
    "version": 3
   },
   "file_extension": ".py",
   "mimetype": "text/x-python",
   "name": "python",
   "nbconvert_exporter": "python",
   "pygments_lexer": "ipython3",
   "version": "3.11.3"
  }
 },
 "nbformat": 4,
 "nbformat_minor": 2
}
